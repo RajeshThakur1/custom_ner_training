{
 "cells": [
  {
   "cell_type": "code",
   "execution_count": 1,
   "id": "bd84bd5f",
   "metadata": {},
   "outputs": [],
   "source": [
    "import os\n",
    "def update_conll_format(original_labeled_file, edited_labeled_file):\n",
    "    newline = os.linesep # Defines the newline based on your OS.\n",
    "    # original_labeled_file = \"./data/train_file_org.conll\"\n",
    "    # edited_labeled_file = \"./data/train_file_edited.conll\"\n",
    "    source_fp = open(original_labeled_file, 'r')\n",
    "    target_fp = open(edited_labeled_file, 'w')\n",
    "    first_row = True\n",
    "    for row in source_fp:\n",
    "        if first_row:\n",
    "            row = '-DOCSTART- -X- O O'\n",
    "            first_row = False\n",
    "        target_fp.write(row + newline)"
   ]
  },
  {
   "cell_type": "code",
   "execution_count": 3,
   "id": "096d2810",
   "metadata": {},
   "outputs": [],
   "source": [
    "train_original_labeled_file = \"data/train_entity_extract_org.conll\"\n",
    "train_edited_labeled_file = \"data/train_entity_extract.conll\"\n",
    "update_conll_format(train_original_labeled_file, train_edited_labeled_file)\n",
    "\n",
    "validation_original_labeled_file = \"data/valid_entity_extract_org.conll\"\n",
    "validation_edited_labeled_file = \"data/valid_entity_extract.conll\"\n",
    "update_conll_format(validation_original_labeled_file, validation_edited_labeled_file)"
   ]
  },
  {
   "cell_type": "code",
   "execution_count": 4,
   "id": "ce2e1dbd",
   "metadata": {},
   "outputs": [
    {
     "name": "stdout",
     "output_type": "stream",
     "text": [
      "\u001b[38;5;3m⚠ Document delimiters found, automatic document segmentation with `-n`\n",
      "disabled.\u001b[0m\n",
      "\u001b[38;5;2m✔ Generated output file (1 documents):\n",
      "data/train_entity_extract.spacy\u001b[0m\n",
      "\u001b[38;5;3m⚠ Document delimiters found, automatic document segmentation with `-n`\n",
      "disabled.\u001b[0m\n",
      "\u001b[38;5;2m✔ Generated output file (1 documents):\n",
      "data/valid_entity_extract.spacy\u001b[0m\n"
     ]
    }
   ],
   "source": [
    "# Convert Train and validation files to Spacy binary format files\n",
    "!spacy convert data/train_entity_extract.conll -c conll data\n",
    "!spacy convert data/valid_entity_extract.conll -c conll data"
   ]
  },
  {
   "cell_type": "code",
   "execution_count": 5,
   "id": "8a7ff25f",
   "metadata": {},
   "outputs": [],
   "source": [
    "# Pretrained model for NER optimized for CPU and accuracy\n",
    "# !python -m spacy download en_core_web_lg"
   ]
  },
  {
   "cell_type": "code",
   "execution_count": 6,
   "id": "c0367839",
   "metadata": {},
   "outputs": [
    {
     "name": "stdout",
     "output_type": "stream",
     "text": [
      "\u001b[38;5;2m✔ Auto-filled config with all values\u001b[0m\r\n",
      "\u001b[38;5;2m✔ Saved config\u001b[0m\r\n",
      "config.cfg\r\n",
      "You can now add your data and train your pipeline:\r\n",
      "python -m spacy train config.cfg --paths.train ./train.spacy --paths.dev ./dev.spacy\r\n"
     ]
    }
   ],
   "source": [
    "# Base config is copied from Spacy documentation, below command copies data to config.cfg\n",
    "!python -m spacy init fill-config base_config.cfg config.cfg"
   ]
  },
  {
   "cell_type": "code",
   "execution_count": 9,
   "id": "8582d5af",
   "metadata": {},
   "outputs": [
    {
     "name": "stdout",
     "output_type": "stream",
     "text": [
      "\u001b[38;5;4mℹ Saving to output directory: model\u001b[0m\n",
      "\u001b[38;5;4mℹ Using CPU\u001b[0m\n",
      "\u001b[1m\n",
      "=========================== Initializing pipeline ===========================\u001b[0m\n",
      "[2022-05-03 20:38:15,682] [INFO] Set up nlp object from config\n",
      "[2022-05-03 20:38:15,686] [INFO] Pipeline: ['tok2vec', 'ner']\n",
      "[2022-05-03 20:38:15,688] [INFO] Created vocabulary\n",
      "[2022-05-03 20:38:16,393] [INFO] Added vectors: en_core_web_lg\n",
      "[2022-05-03 20:38:18,473] [INFO] Finished initializing nlp object\n",
      "[2022-05-03 20:38:19,320] [INFO] Initialized pipeline components: ['tok2vec', 'ner']\n",
      "\u001b[38;5;2m✔ Initialized pipeline\u001b[0m\n",
      "\u001b[1m\n",
      "============================= Training pipeline =============================\u001b[0m\n",
      "\u001b[38;5;4mℹ Pipeline: ['tok2vec', 'ner']\u001b[0m\n",
      "\u001b[38;5;4mℹ Initial learn rate: 0.001\u001b[0m\n",
      "E    #       LOSS TOK2VEC  LOSS NER  ENTS_F  ENTS_P  ENTS_R  SCORE \n",
      "---  ------  ------------  --------  ------  ------  ------  ------\n",
      "  0       0          0.00    168.09    3.83    2.30   11.43    0.04\n",
      "200     200          3.36   2375.06  100.00  100.00  100.00    1.00\n",
      "400     400          0.00      0.00  100.00  100.00  100.00    1.00\n",
      "600     600          0.00      0.00  100.00  100.00  100.00    1.00\n",
      "\u001b[38;5;2m✔ Saved pipeline to output directory\u001b[0m\n",
      "model/model-last\n"
     ]
    }
   ],
   "source": [
    "# Train command\n",
    "!python -m spacy train config.cfg --training.max_steps 600 --output model --paths.train data/train_entity_extract.spacy --paths.dev data/valid_entity_extract.spacy"
   ]
  },
  {
   "cell_type": "code",
   "execution_count": 10,
   "id": "0e201c02",
   "metadata": {},
   "outputs": [],
   "source": [
    "import spacy"
   ]
  },
  {
   "cell_type": "code",
   "execution_count": 11,
   "id": "2bf4dd85",
   "metadata": {},
   "outputs": [],
   "source": [
    "nlp = spacy.load(\"model/model-best/\")"
   ]
  },
  {
   "cell_type": "code",
   "execution_count": null,
   "id": "5f3ef5fd",
   "metadata": {},
   "outputs": [],
   "source": [
    "\"\"\"Cryptocurrency prices today surged with Bitcoin trading at $48,089.82, a 2.6% increase in the last 24 hours. Ethereum surged marginally to $3,838.45, a 1.3% increase in the last 24 hours.\n",
    "\n",
    "\n",
    "\"\"\""
   ]
  },
  {
   "cell_type": "code",
   "execution_count": 12,
   "id": "feb58256",
   "metadata": {},
   "outputs": [
    {
     "data": {
      "text/html": [
       "<span class=\"tex2jax_ignore\"><div class=\"entities\" style=\"line-height: 2.5; direction: ltr\">Cryptocurrency prices today surged with \n",
       "<mark class=\"entity\" style=\"background: #ddd; padding: 0.45em 0.6em; margin: 0 0.25em; line-height: 1; border-radius: 0.35em;\">\n",
       "    Bitcoin\n",
       "    <span style=\"font-size: 0.8em; font-weight: bold; line-height: 1; border-radius: 0.35em; vertical-align: middle; margin-left: 0.5rem\">currancy_name</span>\n",
       "</mark>\n",
       " trading at \n",
       "<mark class=\"entity\" style=\"background: #7aecec; padding: 0.45em 0.6em; margin: 0 0.25em; line-height: 1; border-radius: 0.35em;\">\n",
       "    $\n",
       "    <span style=\"font-size: 0.8em; font-weight: bold; line-height: 1; border-radius: 0.35em; vertical-align: middle; margin-left: 0.5rem\">ORG</span>\n",
       "</mark>\n",
       "\n",
       "<mark class=\"entity\" style=\"background: #7aecec; padding: 0.45em 0.6em; margin: 0 0.25em; line-height: 1; border-radius: 0.35em;\">\n",
       "    48,089.82\n",
       "    <span style=\"font-size: 0.8em; font-weight: bold; line-height: 1; border-radius: 0.35em; vertical-align: middle; margin-left: 0.5rem\">ORG</span>\n",
       "</mark>\n",
       ", a \n",
       "<mark class=\"entity\" style=\"background: #ddd; padding: 0.45em 0.6em; margin: 0 0.25em; line-height: 1; border-radius: 0.35em;\">\n",
       "    2.6\n",
       "    <span style=\"font-size: 0.8em; font-weight: bold; line-height: 1; border-radius: 0.35em; vertical-align: middle; margin-left: 0.5rem\">currancy_name</span>\n",
       "</mark>\n",
       "% increase in the last 24 hours. Ethereum surged marginally \n",
       "<mark class=\"entity\" style=\"background: #7aecec; padding: 0.45em 0.6em; margin: 0 0.25em; line-height: 1; border-radius: 0.35em;\">\n",
       "    to\n",
       "    <span style=\"font-size: 0.8em; font-weight: bold; line-height: 1; border-radius: 0.35em; vertical-align: middle; margin-left: 0.5rem\">ORG</span>\n",
       "</mark>\n",
       " $\n",
       "<mark class=\"entity\" style=\"background: #7aecec; padding: 0.45em 0.6em; margin: 0 0.25em; line-height: 1; border-radius: 0.35em;\">\n",
       "    3,838.45\n",
       "    <span style=\"font-size: 0.8em; font-weight: bold; line-height: 1; border-radius: 0.35em; vertical-align: middle; margin-left: 0.5rem\">ORG</span>\n",
       "</mark>\n",
       ", a 1.3% increase in the last 24 hours.</div></span>"
      ],
      "text/plain": [
       "<IPython.core.display.HTML object>"
      ]
     },
     "metadata": {},
     "output_type": "display_data"
    }
   ],
   "source": [
    "sentence = \"Cryptocurrency prices today surged with Bitcoin trading at $48,089.82, a 2.6% increase in the last 24 hours. Ethereum surged marginally to $3,838.45, a 1.3% increase in the last 24 hours.\"\n",
    "\n",
    "doc = nlp(sentence)\n",
    "\n",
    "# print(doc)\n",
    "from spacy import displacy\n",
    "displacy.render(doc, style='ent', jupyter=True)"
   ]
  },
  {
   "cell_type": "code",
   "execution_count": null,
   "id": "226cb4bf",
   "metadata": {},
   "outputs": [],
   "source": []
  },
  {
   "cell_type": "code",
   "execution_count": null,
   "id": "2a1063bc",
   "metadata": {},
   "outputs": [],
   "source": []
  }
 ],
 "metadata": {
  "kernelspec": {
   "display_name": "Python 3 (ipykernel)",
   "language": "python",
   "name": "python3"
  },
  "language_info": {
   "codemirror_mode": {
    "name": "ipython",
    "version": 3
   },
   "file_extension": ".py",
   "mimetype": "text/x-python",
   "name": "python",
   "nbconvert_exporter": "python",
   "pygments_lexer": "ipython3",
   "version": "3.8.13"
  }
 },
 "nbformat": 4,
 "nbformat_minor": 5
}
